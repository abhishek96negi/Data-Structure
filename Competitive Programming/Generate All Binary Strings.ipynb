{
 "cells": [
  {
   "cell_type": "markdown",
   "metadata": {},
   "source": [
    "## Generate All Binary Strings\n",
    "\n",
    "* if n=2 ['00', '01', '10', '11']\n",
    "\n",
    "* if n=3 ['000', '001', '010', '011', '100', '101', '110', '111']\n",
    "\n",
    "* if n=4 ['0000', '0001', '0010', '0011', '0100', '0101', '0110', '0111', '1000', '1001', '1010', '1011', '1100', '1101', '1110', '1111']"
   ]
  },
  {
   "cell_type": "code",
   "execution_count": 82,
   "metadata": {},
   "outputs": [
    {
     "name": "stdout",
     "output_type": "stream",
     "text": [
      "['000', '001', '010', '011', '100', '101', '110', '111']\n"
     ]
    }
   ],
   "source": [
    "def append_bits(x, L):\n",
    "    return [x + element for element in    L]\n",
    "\n",
    "def generate_bit(n):\n",
    "    if n == 0: return []\n",
    "    if n == 1: return [\"0\", \"1\"]\n",
    "    else:\n",
    "        return (append_bits(\"0\", generate_bit(n - 1)) + \n",
    "                append_bits(\"1\", generate_bit(n - 1)))\n",
    "                \n",
    "print(generate_bit(3))"
   ]
  },
  {
   "cell_type": "markdown",
   "metadata": {},
   "source": [
    "## OR"
   ]
  },
  {
   "cell_type": "code",
   "execution_count": 88,
   "metadata": {},
   "outputs": [
    {
     "data": {
      "text/plain": [
       "['000', '001', '010', '011', '100', '101', '110', '111']"
      ]
     },
     "execution_count": 88,
     "metadata": {},
     "output_type": "execute_result"
    }
   ],
   "source": [
    "def generateBinary(n):\n",
    "    l=[]\n",
    "    for i in range(2**n):\n",
    "        j=bin(i).replace(\"b\",\"\")\n",
    "        if len(j) < n:\n",
    "            l.append(('0'+j))\n",
    "        elif len(j)>n:\n",
    "            l.append(j[1:])\n",
    "        else:\n",
    "            l.append(j)\n",
    "    return l    \n",
    "generateBinary(3)"
   ]
  },
  {
   "cell_type": "raw",
   "metadata": {},
   "source": [
    "# more problem statements\n",
    "\n",
    "7---'111'\n",
    "8----'1000'\n",
    "\n",
    "number =2,bits=4\n",
    "0010\n",
    "bits=3\n",
    "number 7,bits=4\n",
    "0111\n",
    "bits=3\n",
    "111\n",
    "bits=2\n",
    "error - 11\n",
    "number =8 bits=5\n",
    "01000"
   ]
  },
  {
   "cell_type": "code",
   "execution_count": 164,
   "metadata": {},
   "outputs": [],
   "source": [
    "def checkbits(num,bits):\n",
    "    binary=bin(num).replace(\"b\",\"\")\n",
    "    binary=binary[binary.find('1'):]\n",
    "    l=len(binary)\n",
    "    if bits==l:\n",
    "        print(binary)\n",
    "    elif bits > l:\n",
    "        for i in range(0,bits-l):\n",
    "            binary='0'+binary\n",
    "        print(binary)\n",
    "    else:\n",
    "        try:\n",
    "            raise  Exception(\"Sorry, Not Convert in this bit\",bits)\n",
    "        except Exception as e:\n",
    "            print('Exception occur')"
   ]
  },
  {
   "cell_type": "code",
   "execution_count": 172,
   "metadata": {},
   "outputs": [
    {
     "name": "stdout",
     "output_type": "stream",
     "text": [
      "001000\n"
     ]
    }
   ],
   "source": [
    "checkbits(8,6)"
   ]
  }
 ],
 "metadata": {
  "kernelspec": {
   "display_name": "Python 3",
   "language": "python",
   "name": "python3"
  },
  "language_info": {
   "codemirror_mode": {
    "name": "ipython",
    "version": 3
   },
   "file_extension": ".py",
   "mimetype": "text/x-python",
   "name": "python",
   "nbconvert_exporter": "python",
   "pygments_lexer": "ipython3",
   "version": "3.6.3"
  }
 },
 "nbformat": 4,
 "nbformat_minor": 4
}
