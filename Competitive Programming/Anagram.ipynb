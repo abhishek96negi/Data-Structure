{
 "cells": [
  {
   "cell_type": "code",
   "execution_count": 1,
   "id": "lasting-terrace",
   "metadata": {},
   "outputs": [],
   "source": [
    "def anagram(str1,str2):\n",
    "    print(str1,str2,sep='------')\n",
    "    if len(str1)==len(str2):\n",
    "        for i in str1.lower():\n",
    "            if i in str2.lower():\n",
    "                continue\n",
    "            else:\n",
    "                return False\n",
    "        else:\n",
    "            return True\n",
    "    else:\n",
    "        return False\n",
    "    "
   ]
  },
  {
   "cell_type": "code",
   "execution_count": 4,
   "id": "large-herald",
   "metadata": {},
   "outputs": [
    {
     "name": "stdout",
     "output_type": "stream",
     "text": [
      "below------elbow\n",
      "True\n",
      "study------dusty\n",
      "True\n",
      "night------thing\n",
      "True\n",
      "act------cat\n",
      "True\n",
      "dessert------stressed\n",
      "False\n",
      "bad credit------debit card\n",
      "True\n",
      "gainly------laying\n",
      "True\n",
      "conversation------voice rants on\n",
      "False\n",
      "eleven plus two------twelve plus one\n",
      "True\n"
     ]
    }
   ],
   "source": [
    "str1=['below','study','night' ,'act','dessert' ,'bad credit' ,'gainly','conversation','eleven plus two' ]\n",
    "str2=['elbow','dusty','thing','cat','stressed','debit card','laying','voice rants on','twelve plus one']\n",
    "for i in range(0,len(str1)):\n",
    "    print(anagram(str1[i],str2[i]))\n",
    "### You also have to handle spaces and capital letters"
   ]
  },
  {
   "cell_type": "code",
   "execution_count": 5,
   "id": "featured-uruguay",
   "metadata": {},
   "outputs": [],
   "source": [
    "### Final Solution\n",
    "def anagram(str1,str2):\n",
    "    group_letters={}\n",
    "    for i in str1:\n",
    "        if i in group_letters:\n",
    "            group_letters[i]+=1\n",
    "        else:\n",
    "            group_letters[i]=1\n",
    "    for i in str2:\n",
    "        if i in group_letters:\n",
    "            group_letters[i]-=1\n",
    "        else:\n",
    "            group_letters[i]=1\n",
    "    for j in group_letters:\n",
    "        if group_letters[j]!=0:\n",
    "            return False\n",
    "    return True"
   ]
  },
  {
   "cell_type": "code",
   "execution_count": 6,
   "id": "norwegian-union",
   "metadata": {},
   "outputs": [
    {
     "name": "stdout",
     "output_type": "stream",
     "text": [
      "True\n",
      "True\n",
      "True\n",
      "True\n",
      "False\n",
      "True\n",
      "True\n",
      "True\n",
      "True\n"
     ]
    }
   ],
   "source": [
    "str1=['below','study','night' ,'act','dessert' ,'bad credit' ,'gainly','conversation','eleven plus two' ]\n",
    "str2=['elbow','dusty','thing','cat','stressed','debit card','laying','voice rants on','twelve plus one']\n",
    "for i in range(0,len(str1)):\n",
    "    print(anagram(str1[i],str2[i]))"
   ]
  },
  {
   "cell_type": "code",
   "execution_count": null,
   "id": "medical-edgar",
   "metadata": {},
   "outputs": [],
   "source": [
    "string1=input(\"Enter the first string: \")\n",
    "string1=string1.replace(\" \",\"\").lower()\n",
    "string2=input(\"Enter the first string: \")\n",
    "string2=string2.replace(\" \",\"\").lower()\n",
    "var=anagram(string1,string2)\n",
    "if(var):\n",
    "    print(\"The entered strings are anagram\")\n",
    "else:\n",
    "    print(\"The entered strings are not anagram\")"
   ]
  }
 ],
 "metadata": {
  "kernelspec": {
   "display_name": "Python 3",
   "language": "python",
   "name": "python3"
  },
  "language_info": {
   "codemirror_mode": {
    "name": "ipython",
    "version": 3
   },
   "file_extension": ".py",
   "mimetype": "text/x-python",
   "name": "python",
   "nbconvert_exporter": "python",
   "pygments_lexer": "ipython3",
   "version": "3.8.0"
  }
 },
 "nbformat": 4,
 "nbformat_minor": 5
}
